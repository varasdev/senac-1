{
 "cells": [
  {
   "cell_type": "code",
   "execution_count": 6,
   "metadata": {},
   "outputs": [
    {
     "name": "stdout",
     "output_type": "stream",
     "text": [
      "você pagará 375.0 de taxa.\n"
     ]
    }
   ],
   "source": [
    "ano_carro = int(input(\"qual o ano do carro\"))\n",
    "preco_carro= float(input(\"qual o valor do carro\"))\n",
    "\n",
    "if ano_carro < 1990:\n",
    "    taxa = preco_carro * 0.01\n",
    "    print(\"você pagará\", taxa , \"de taxa.\")\n",
    "else:\n",
    "    taxa = preco_carro * 0.015\n",
    "    print(\"você pagará\", taxa, \"de taxa.\") \n"
   ]
  },
  {
   "cell_type": "code",
   "execution_count": 16,
   "metadata": {},
   "outputs": [
    {
     "name": "stdout",
     "output_type": "stream",
     "text": [
      "a partir de agora você terá recebido um aumento de 500.0\n"
     ]
    }
   ],
   "source": [
    "cargo =str(input(\"qual seu cargo?\"))\n",
    "salario_antigo = float(input(\"qual seu salário antigo?\"))\n",
    "\n",
    "if cargo == \"Gerente\" or \"gerente\":\n",
    "   aumento = salario_antigo * 0.10\n",
    "   print(\"a partir de agora você terá recebido um aumento de\", aumento,)\n",
    "\n",
    "elif cargo == \"Engenheiro\" or \"engenheiro\":\n",
    "   aumento = salario_antigo * 0.20\n",
    "   print(\"a partir de agora você terá recebido um aumento de\", aumento,)"
   ]
  }
 ],
 "metadata": {
  "kernelspec": {
   "display_name": "Python 3",
   "language": "python",
   "name": "python3"
  },
  "language_info": {
   "codemirror_mode": {
    "name": "ipython",
    "version": 3
   },
   "file_extension": ".py",
   "mimetype": "text/x-python",
   "name": "python",
   "nbconvert_exporter": "python",
   "pygments_lexer": "ipython3",
   "version": "3.11.9"
  }
 },
 "nbformat": 4,
 "nbformat_minor": 2
}
