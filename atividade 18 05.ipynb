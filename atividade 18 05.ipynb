{
 "cells": [
  {
   "cell_type": "code",
   "execution_count": 4,
   "metadata": {},
   "outputs": [
    {
     "name": "stdout",
     "output_type": "stream",
     "text": [
      "é uma vogal\n"
     ]
    }
   ],
   "source": [
    "#faça um programa que verifique se uma letra digitada é vogal ou consoant\n",
    "\n",
    "letra = input(\"digite uma letra: \")\n",
    "\n",
    "vogais = 'AEIOUaeiou'\n",
    "\n",
    "if letra in vogais or letra in vogais.upper():\n",
    "    print(\"é uma vogal\")\n",
    "else:\n",
    "    print(\"é uma consoante\")"
   ]
  },
  {
   "cell_type": "code",
   "execution_count": 5,
   "metadata": {},
   "outputs": [
    {
     "name": "stdout",
     "output_type": "stream",
     "text": [
      "compre o primeiro produto.\n"
     ]
    }
   ],
   "source": [
    "#faça um programa que pergunte o preço de três produtos e informe qual produto voçê deve comprar, sabendo que a decisão é sempre pelo mais barato\n",
    "\n",
    "preco1 = float(input(\"Digite o preço do primeiro produto: \"))\n",
    "preco2 = float(input(\"Digite o preço do segundo produto: \"))\n",
    "preco3 = float(input(\"Digite o preço do terceiro produto: \"))\n",
    "\n",
    "if preco1 < preco2:\n",
    "    if preco1 < preco3:\n",
    "        print(\"compre o primeiro produto.\")\n",
    "    else:\n",
    "        print(\"compre o terceiro produto.\")\n",
    "else:\n",
    "    if preco2 < preco3:\n",
    "        print(\"compre o segundo produto.\")\n",
    "    else:\n",
    "        print(\"compre o segundo terceiro produto.\")"
   ]
  },
  {
   "cell_type": "code",
   "execution_count": 6,
   "metadata": {},
   "outputs": [
    {
     "name": "stdout",
     "output_type": "stream",
     "text": [
      "numeros em ordem decrescente: [4.0, 3.0, 2.0]\n"
     ]
    }
   ],
   "source": [
    "#faça um programa que pergunte em que turno voçê estuda. peça para digitar M-matutino ou V-vespertino ou N-noturno. imprima a mensagem \"Bom Dia!\",\"Boa Tarde!\"ou \"Boa Noite!\" ou \"Valor inválido\", conforme o caso \n",
    "\n",
    "número1 = float(input(\"digite o primeiro número:\"))\n",
    "número2 = float(input(\"digite o segundo número:\"))\n",
    "número3 = float(input(\"digite o terceiro número:\"))\n",
    "numeros = [número1, número2, número3]\n",
    "numeros.sort(reverse=True)\n",
    "print(\"numeros em ordem decrescente:\",numeros)"
   ]
  },
  {
   "cell_type": "code",
   "execution_count": 7,
   "metadata": {},
   "outputs": [
    {
     "name": "stdout",
     "output_type": "stream",
     "text": [
      "Bom dia!\n"
     ]
    }
   ],
   "source": [
    "#faça um programa que pergunte em que turno voçê estuda. peça para digitar M-matutino ou V-vespertino ou N-noturno. imprima a mensagem \"Bom Dia!\",\"Boa Tarde!\"ou \"Boa Noite!\" ou \"Valor inválido\", conforme o caso\n",
    "\n",
    "turno = input(\"Em qual turno voçê estuda ? Digite m para matutino, v para vespetino ou n para noturno:\")\n",
    "if turno == \"m\":\n",
    "  print(\"Bom dia!\")\n",
    "\n",
    "elif turno == \"v\":\n",
    "    print(\"Boa tarde!\")\n",
    "\n",
    "elif turno == \"n\":\n",
    "   print(\"Boa noite!\")\n",
    "else:\n",
    "   print(\"só pode m,v ou n \")"
   ]
  },
  {
   "cell_type": "code",
   "execution_count": 8,
   "metadata": {},
   "outputs": [
    {
     "name": "stdout",
     "output_type": "stream",
     "text": [
      "quarta-feira\n"
     ]
    }
   ],
   "source": [
    "#faça um programa que leia um número e exiba o dia correspondente da semana.(1-Domingo,2-segunda.etc). se for digitado outro valor deve retornar uma mensagem informando valor invalido\n",
    "\n",
    "dias_da_semana ={\n",
    "    1:\"segunda-feira\",\n",
    "    2:\"terça-feira\",\n",
    "    3:\"quarta-feira\",\n",
    "    4:\"quinta-feira\",\n",
    "    5:\"sexta-feira\",\n",
    "\n",
    "}\n",
    "num = int(input(\"digite um numero de 1 a 5 ne procure qual o numero da semana se refere:\"))\n",
    "\n",
    "if num in dias_da_semana:\n",
    "    print(dias_da_semana[num])\n",
    "else:\n",
    "    print('numero invalido tente novamente')"
   ]
  },
  {
   "cell_type": "code",
   "execution_count": 19,
   "metadata": {},
   "outputs": [
    {
     "name": "stdout",
     "output_type": "stream",
     "text": [
      "Média: 5.0 Conceito: D Situação: reprovado. Burrão filho KKKKKKKKKK.\n"
     ]
    }
   ],
   "source": [
    "# Faça um programa que lê as duas notas parciais obtidas por um aluno numa disciplina ao longo de um semestre,\n",
    "# e calcule a sua média. A atribuição de conceitos obedece às regras:\n",
    "\n",
    "nota1 = float(input(\"Digite a primeira nota: \"))\n",
    "nota2 = float(input(\"Digite a segunda nota: \"))\n",
    "media = (nota1 + nota2) / 2\n",
    "\n",
    "if 9.0 <= media <= 10.0:\n",
    "    conceito = 'A'\n",
    "elif 7.5 <= media < 9.0:\n",
    "    conceito = 'B'\n",
    "elif 6.0 <= media < 7.5:\n",
    "    conceito = 'C'\n",
    "elif 4.0 <= media < 6.0:\n",
    "    conceito = 'D'\n",
    "elif 0 <= media < 4.0:\n",
    "    conceito = 'E'\n",
    "else:\n",
    "    conceito = 'Conceito inválido'\n",
    "\n",
    "if conceito in ['A', 'B', 'C']:\n",
    "    situacao = 'aprovado. Parabéns, curta suas férias!'\n",
    "else:\n",
    "    situacao = 'reprovado. Burrão filho KKKKKKKKKK.'\n",
    "\n",
    "print('Média:', media, 'Conceito:', conceito, 'Situação:', situacao)\n"
   ]
  },
  {
   "cell_type": "code",
   "execution_count": 13,
   "metadata": {},
   "outputs": [
    {
     "name": "stdout",
     "output_type": "stream",
     "text": [
      "o ano 2003 não é bissexto..\n"
     ]
    }
   ],
   "source": [
    "#faça um programa que peça um número correspondente a um determinado ano e em seguida informe se este ano é ou não bissexto.\n",
    "\n",
    "ano = int(input('Digite um ano: '))\n",
    "if (ano %4 == 0 and ano %100 != 0) or (ano % 400 == 0):\n",
    "    print(f'O ano {ano} é bissexto..')\n",
    "else:\n",
    "    print(f\"o ano {ano} não é bissexto..\")"
   ]
  },
  {
   "cell_type": "code",
   "execution_count": 20,
   "metadata": {},
   "outputs": [
    {
     "name": "stdout",
     "output_type": "stream",
     "text": [
      "O resultado da soma entre 5.0 e 10.0 é: 15.0\n"
     ]
    }
   ],
   "source": [
    "# Faça um programa que leia 2 números e em seguida pergunte ao usuário qual operação básica\n",
    "# (soma, subtração, multiplicação, divisão, exponenciação) ele deseja realizar.\n",
    "\n",
    "num1 = float(input(\"Digite o primeiro número: \"))\n",
    "num2 = float(input(\"Digite o segundo número: \"))\n",
    "\n",
    "operacao = input(\"Escolha a operação desejada (+, -, *, /, **): \")\n",
    "\n",
    "if operacao == '+':\n",
    "    resultado = num1 + num2\n",
    "    operacao_extenso = \"soma\"\n",
    "elif operacao == '-':\n",
    "    resultado = num1 - num2\n",
    "    operacao_extenso = \"subtração\"\n",
    "elif operacao == '*':\n",
    "    resultado = num1 * num2\n",
    "    operacao_extenso = \"multiplicação\"\n",
    "elif operacao == '/':\n",
    "    if num2 != 0:\n",
    "        resultado = num1 / num2\n",
    "        operacao_extenso = \"divisão\"\n",
    "    else:\n",
    "        resultado = \"erro (divisão por zero)\"\n",
    "        operacao_extenso = \"divisão\"\n",
    "elif operacao == '**':\n",
    "    resultado = num1 ** num2\n",
    "    operacao_extenso = \"exponenciação\"\n",
    "else:\n",
    "    resultado = \"operação inválida\"\n",
    "    operacao_extenso = \"operação inválida\"\n",
    "\n",
    "print(f\"O resultado da {operacao_extenso} entre {num1} e {num2} é: {resultado}\")\n"
   ]
  },
  {
   "cell_type": "code",
   "execution_count": 21,
   "metadata": {},
   "outputs": [
    {
     "name": "stdout",
     "output_type": "stream",
     "text": [
      "sua idade e de 21\n"
     ]
    }
   ],
   "source": [
    "#faça um programa que peça a idade e exiba a informação. os valores aceitaveis ...\n",
    "\n",
    "idade = int(input(\"digite sua idade:\"))\n",
    "if 0<= idade <= 150:\n",
    "    print(f'sua idade e de {idade}')\n",
    "else:\n",
    "    print('idade inválida tente novamente!')"
   ]
  },
  {
   "cell_type": "code",
   "execution_count": 22,
   "metadata": {},
   "outputs": [
    {
     "name": "stdout",
     "output_type": "stream",
     "text": [
      "a soma dos numeros de: 51.0\n",
      "a media dos numeros deu: 10.2\n"
     ]
    }
   ],
   "source": [
    "#utilizando estruturas de repetição e listas(com ou sem )...\n",
    "num = []\n",
    "for t in range(5):\n",
    "    numero = float(input(f'digite o {t +1}º numero:'))\n",
    "    num.append(numero)\n",
    "    soma = 0\n",
    "    for numero in num:\n",
    "        soma += numero\n",
    "        media = soma / len(num)\n",
    "        \n",
    "print(f'a soma dos numeros de: {soma}')\n",
    "print(f'a media dos numeros deu: {media}')"
   ]
  },
  {
   "cell_type": "code",
   "execution_count": 23,
   "metadata": {},
   "outputs": [
    {
     "name": "stdout",
     "output_type": "stream",
     "text": [
      "5 não é um  primo .\n"
     ]
    }
   ],
   "source": [
    "#faça um programa que peça um numero inteiro...\n",
    "\n",
    "sugestao = int(input('coloque um numero inteiro: '))\n",
    "if sugestao >1:\n",
    "    for p in range(2, int(sugestao**0.5)+1):\n",
    "        if sugestao % p ==0:\n",
    "            print(f'{sugestao} não e primo .')\n",
    "            \n",
    "        else:\n",
    "          print(f'{sugestao} não é um  primo .')\n",
    "else:\n",
    "    print(f\"{sugestao} não é um  primo.\")"
   ]
  },
  {
   "cell_type": "code",
   "execution_count": 25,
   "metadata": {},
   "outputs": [
    {
     "name": "stdout",
     "output_type": "stream",
     "text": [
      "A menor temperatura informada foi: 8.0°C\n",
      "A maior temperatura informada foi: 45.0°C\n",
      "A média das temperaturas informadas é: 23.00°C\n"
     ]
    }
   ],
   "source": [
    "# Programa que lê 5 temperaturas e informa a menor, a maior e a média das temperaturas\n",
    "\n",
    "# Inicialização da lista de temperaturas\n",
    "temperaturas = []\n",
    "\n",
    "# Leitura das 5 temperaturas\n",
    "for i in range(5):\n",
    "    temp = float(input(f\"Digite a temperatura {i+1}: \"))\n",
    "    temperaturas.append(temp)\n",
    "\n",
    "# Cálculo da menor, maior e média das temperaturas\n",
    "menor_temp = min(temperaturas)\n",
    "maior_temp = max(temperaturas)\n",
    "media_temp = sum(temperaturas) / len(temperaturas)\n",
    "\n",
    "# Exibição dos resultados\n",
    "print(f\"A menor temperatura informada foi: {menor_temp}°C\")\n",
    "print(f\"A maior temperatura informada foi: {maior_temp}°C\")\n",
    "print(f\"A média das temperaturas informadas é: {media_temp:.2f}°C\")\n"
   ]
  },
  {
   "cell_type": "code",
   "execution_count": 26,
   "metadata": {},
   "outputs": [
    {
     "name": "stdout",
     "output_type": "stream",
     "text": [
      "Saldo médio: 200.00\n",
      "Nenhum crédito disponível.\n"
     ]
    }
   ],
   "source": [
    "# 12)\n",
    "\n",
    "saldo_medio = float(input(\"Digite o saldo médio do cliente: \"))\n",
    "\n",
    "print(f\"Saldo médio: {saldo_medio:.2f}\")\n",
    "\n",
    "if saldo_medio <= 200:\n",
    "    credito = 0\n",
    "    print(\"Nenhum crédito disponível.\")\n",
    "elif saldo_medio <= 400:\n",
    "    credito = saldo_medio * 0.2\n",
    "    print(f\"Seu crédito especial é de R$ {credito:.2f}.\")\n",
    "elif saldo_medio <= 600:\n",
    "    credito = saldo_medio * 0.3\n",
    "    print(f\"Seu crédito especial é de R$ {credito:.2f}.\")\n",
    "else:\n",
    "    credito = saldo_medio * 0.4\n",
    "    print(f\"Seu crédito especial é de R$ {credito:.2f}.\")\n"
   ]
  },
  {
   "cell_type": "code",
   "execution_count": 27,
   "metadata": {},
   "outputs": [
    {
     "name": "stdout",
     "output_type": "stream",
     "text": [
      "joao, você poderá se aposentar em 2068.\n"
     ]
    }
   ],
   "source": [
    "nome = input('Diga o seu nome: ')\n",
    "idade = int(input(f'{nome}, quantos anos você tem? '))\n",
    "\n",
    "ano_atual = 2024\n",
    "idade_max = 65\n",
    "ano_aposentadoria = ano_atual + (idade_max - idade)\n",
    "\n",
    "print(f'{nome}, você poderá se aposentar em {ano_aposentadoria}.')"
   ]
  },
  {
   "cell_type": "code",
   "execution_count": 28,
   "metadata": {},
   "outputs": [
    {
     "name": "stdout",
     "output_type": "stream",
     "text": [
      "\n",
      "Folha de Pagamento:\n",
      "Salário Bruto: R$ 256.00\n",
      "Desconto do Imposto de Renda: R$ 0.00\n",
      "Desconto do Sindicato: R$ 7.68\n",
      "FGTS: R$ 28.16\n",
      "Salário Líquido: R$ 248.32\n"
     ]
    }
   ],
   "source": [
    "valor_hora = float(input(\"Qual o valor da sua hora de trabalho? \"))\n",
    "horas_trabalhadas = float(input(\"Quantas horas você trabalhou neste mês? \"))\n",
    "\n",
    "salario_bruto = valor_hora * horas_trabalhadas\n",
    "\n",
    "# Determinação da porcentagem do imposto de renda\n",
    "if salario_bruto <= 2112.00:\n",
    "    porcentagem_ir = 0\n",
    "elif salario_bruto <= 3751.05:\n",
    "    porcentagem_ir = 0.075\n",
    "elif salario_bruto <= 4664.68:\n",
    "    porcentagem_ir = 0.225\n",
    "else:\n",
    "    porcentagem_ir = 0.275\n",
    "\n",
    "# Cálculo dos descontos\n",
    "desconto_ir = salario_bruto * porcentagem_ir\n",
    "desconto_sindicato = salario_bruto * 0.03\n",
    "fgts = salario_bruto * 0.11\n",
    "\n",
    "# Cálculo do salário líquido\n",
    "salario_liquido = salario_bruto - desconto_ir - desconto_sindicato\n",
    "\n",
    "# Impressão da folha de pagamento\n",
    "print(\"\\nFolha de Pagamento:\")\n",
    "print(f\"Salário Bruto: R$ {salario_bruto:.2f}\")\n",
    "print(f\"Desconto do Imposto de Renda: R$ {desconto_ir:.2f}\")\n",
    "print(f\"Desconto do Sindicato: R$ {desconto_sindicato:.2f}\")\n",
    "print(f\"FGTS: R$ {fgts:.2f}\")\n",
    "print(f\"Salário Líquido: R$ {salario_liquido:.2f}\")"
   ]
  }
 ],
 "metadata": {
  "kernelspec": {
   "display_name": "Python 3",
   "language": "python",
   "name": "python3"
  },
  "language_info": {
   "codemirror_mode": {
    "name": "ipython",
    "version": 3
   },
   "file_extension": ".py",
   "mimetype": "text/x-python",
   "name": "python",
   "nbconvert_exporter": "python",
   "pygments_lexer": "ipython3",
   "version": "3.12.2"
  }
 },
 "nbformat": 4,
 "nbformat_minor": 2
}
