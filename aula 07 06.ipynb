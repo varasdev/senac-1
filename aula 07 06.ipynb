{
 "cells": [
  {
   "cell_type": "code",
   "execution_count": null,
   "metadata": {},
   "outputs": [],
   "source": [
    "def addNum(n1,n2):\n",
    "    print(\"o primeiro numero é:: \",n1)\n",
    "    print(\"o segundo numero é: \",n2)\n",
    "    print(\"o terceiro numero é: \",n1+n2)"
   ]
  },
  {
   "cell_type": "code",
   "execution_count": null,
   "metadata": {},
   "outputs": [],
   "source": [
    "addNum(2,3)"
   ]
  },
  {
   "cell_type": "code",
   "execution_count": null,
   "metadata": {},
   "outputs": [],
   "source": [
    "varGlobal = 10 #essa é uma variável global\n",
    "def multiplicação(Num1,Num2):\n",
    "#apesar do mesmo nome, é uma variavel local:\n",
    "   varGlobal = (Num1 * Num2)\n",
    "   print(\"Variável da função Multiplca: \", varGlobal)\n",
    "multiplicação(5,4)\n",
    "print(varGlobal)"
   ]
  },
  {
   "cell_type": "code",
   "execution_count": null,
   "metadata": {},
   "outputs": [],
   "source": [
    "varGlobal = 10 #essa é a variave global\n",
    "def multiplicação(Num1,Num2):\n",
    "    varLocal = Num1*Num2#essa é uma variavel local\n",
    "    print(\"Variável da função Multiplica: \", varLocal)\n",
    "    print(varLocal)"
   ]
  },
  {
   "cell_type": "code",
   "execution_count": null,
   "metadata": {},
   "outputs": [],
   "source": [
    "multiplica(5,4)\n",
    "print(varLocal)"
   ]
  },
  {
   "cell_type": "code",
   "execution_count": null,
   "metadata": {},
   "outputs": [],
   "source": [
    "def separarTexto(texto):\n",
    "    return texto.split()"
   ]
  },
  {
   "cell_type": "code",
   "execution_count": null,
   "metadata": {},
   "outputs": [],
   "source": [
    "separartexto(\"Cibele Maria Suely\")"
   ]
  },
  {
   "cell_type": "code",
   "execution_count": null,
   "metadata": {},
   "outputs": [],
   "source": [
    "def variosparametros(*parametros):\n",
    "    for n, item in enumerate(parametros):\n",
    "        print(\"Parametros\",n, item)\n",
    "    return"
   ]
  },
  {
   "cell_type": "code",
   "execution_count": null,
   "metadata": {},
   "outputs": [],
   "source": [
    "variosparametros('cibele','suely','giggio','madá','luquinhas')\n"
   ]
  },
  {
   "cell_type": "code",
   "execution_count": null,
   "metadata": {},
   "outputs": [],
   "source": [
    "variosparametros('pitomba','jambo','siriguela','umbu')"
   ]
  },
  {
   "cell_type": "code",
   "execution_count": null,
   "metadata": {},
   "outputs": [],
   "source": [
    "def soma(n1,n2):\n",
    "    return n1+n2\n",
    "def subtrai(n1,n2):\n",
    "    return n1-n2\n",
    "def multiplica(n1,n2):\n",
    "    return n1*n2\n",
    "def dividir(n1,n2):\n",
    "    return n1/n2"
   ]
  },
  {
   "cell_type": "code",
   "execution_count": null,
   "metadata": {},
   "outputs": [
    {
     "ename": "",
     "evalue": "",
     "output_type": "error",
     "traceback": [
      "\u001b[1;31mRunning cells with 'Python 3.11.9' requires the ipykernel package.\n",
      "\u001b[1;31mRun the following command to install 'ipykernel' into the Python environment. \n",
      "\u001b[1;31mCommand: 'c:/Users/Aluno.M57074/AppData/Local/Microsoft/WindowsApps/python3.11.exe -m pip install ipykernel -U --user --force-reinstall'"
     ]
    }
   ],
   "source": [
    "while True:\n",
    "    print(\"+==================+\")\n",
    "    print(\"| MENU DE OPERAÇÕES\")\n",
    "    print(\"|  1 - somar       \")\n",
    "    print(\"|  2 - subtrair    \")\n",
    "    print(\"|  3 - multiplicar \")\n",
    "    print(\"|  4 - dividir     \")\n",
    "    print(\"|  0 - sair        \")\n",
    "    print(\"+==================+\")\n",
    "\n",
    "    op = int(input())\n",
    "    if op==0:\n",
    "        break\n",
    "    \n",
    "    n1 = int(input(\"Primeiro número: \"))\n",
    "    n2 = int(input(\"Segundo número é: \"))\n",
    "\n",
    "    if op==1:\n",
    "        print(\"O resultado da soma é: \", somar(n1,n2))\n",
    "    elif op==2:\n",
    "        print(\"O resultado da subtração é: \", subtrair(n1,n2)) \n",
    "    elif op==3:\n",
    "        print(\"O resultado da multiplicação é: \", multiplicar(n1,n2))\n",
    "    elif op==4:\n",
    "        print(\"O resultado da divisão é: \", dividir (n1,n2))"
   ]
  }
 ],
 "metadata": {
  "kernelspec": {
   "display_name": "Python 3",
   "language": "python",
   "name": "python3"
  },
  "language_info": {
   "name": "python",
   "version": "3.11.9"
  }
 },
 "nbformat": 4,
 "nbformat_minor": 2
}
