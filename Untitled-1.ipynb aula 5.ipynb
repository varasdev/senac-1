{
 "cells": [
  {
   "cell_type": "code",
   "execution_count": null,
   "metadata": {},
   "outputs": [],
   "source": [
    "#definir tempo e dinheiro\n",
    "tempo = str(input('O clima está ensolarado? '))\n",
    "dinheiro = float(input('Quanto de dinheiro Você tem ? '))\n",
    "#usar os valores das variaveis para definir a situação de ir à praia ou não\n",
    "if(tempo == 'Sim' and dinheiro > 0): \n",
    "    print('Você pode ir á praia') \n",
    "    if(tempo == 'Sol' and dinheiro <= 0):\n",
    "        print('Assista Netflix')     \n",
    "else:\n",
    "    print('Assista netflix!')"
   ]
  }
 ],
 "metadata": {
  "language_info": {
   "name": "python"
  }
 },
 "nbformat": 4,
 "nbformat_minor": 2
}
