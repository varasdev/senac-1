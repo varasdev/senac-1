{
 "cells": [
  {
   "cell_type": "code",
   "execution_count": 12,
   "metadata": {},
   "outputs": [],
   "source": [
    "valor_int= int(input(\"Digite um número: \"))"
   ]
  },
  {
   "cell_type": "code",
   "execution_count": 13,
   "metadata": {},
   "outputs": [
    {
     "name": "stdout",
     "output_type": "stream",
     "text": [
      "6\n"
     ]
    }
   ],
   "source": [
    "print(valor_int)"
   ]
  },
  {
   "cell_type": "code",
   "execution_count": 14,
   "metadata": {},
   "outputs": [
    {
     "name": "stdout",
     "output_type": "stream",
     "text": [
      "A soma dos valores é: 15\n"
     ]
    }
   ],
   "source": [
    "valor1= int(input(\"Digite um número: \"))\n",
    "valor2= int(input(\"Digite um número: \"))\n",
    "somaidades= valor1+valor2\n",
    "print(\"A soma dos valores é:\", somaidades)"
   ]
  },
  {
   "cell_type": "code",
   "execution_count": 16,
   "metadata": {},
   "outputs": [
    {
     "name": "stdout",
     "output_type": "stream",
     "text": [
      "A média dos valores é: 21\n"
     ]
    }
   ],
   "source": [
    "valor1= int(input(\"Digite um número: \"))\n",
    "valor2= int(input(\"Digite um número: \"))\n",
    "valor3= int(input(\"Digite um número: \"))\n",
    "média= valor1+valor2+valor3\n",
    "média / 3\n",
    "print(\"A média dos valores é:\", média)\n"
   ]
  },
  {
   "cell_type": "code",
   "execution_count": 17,
   "metadata": {},
   "outputs": [
    {
     "name": "stdout",
     "output_type": "stream",
     "text": [
      "Seu salário é: 12000.0\n"
     ]
    }
   ],
   "source": [
    "salariohora = float(input(\"Quanto ganha por hora?\"));\n",
    "tempotrabalho = float(input(\"Quantas horas você trabalha por mês?\"));\n",
    "salarioreal= salariohora * tempotrabalho;\n",
    "print(\"Seu salário é:\", salarioreal)"
   ]
  },
  {
   "cell_type": "code",
   "execution_count": null,
   "metadata": {},
   "outputs": [],
   "source": [
    "pesopeixe = float(input(\"quantos quilos de peixe você pescou?:\"));\n",
    "valormulta= 4;\n",
    "if pesopeixe > 50:\n",
    " print(\"Você pagará uma multa de:\", (valormulta * (pesopeixe -50))\n",
    "else:\n",
    " print(\"Você não pagará multa.\");                      "
   ]
  }
 ],
 "metadata": {
  "kernelspec": {
   "display_name": "Python 3",
   "language": "python",
   "name": "python3"
  },
  "language_info": {
   "codemirror_mode": {
    "name": "ipython",
    "version": 3
   },
   "file_extension": ".py",
   "mimetype": "text/x-python",
   "name": "python",
   "nbconvert_exporter": "python",
   "pygments_lexer": "ipython3",
   "version": "3.12.2"
  }
 },
 "nbformat": 4,
 "nbformat_minor": 2
}
